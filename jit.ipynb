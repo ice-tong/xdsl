{
 "cells": [
  {
   "cell_type": "markdown",
   "metadata": {},
   "source": [
    " - hash name\n",
    " - get python types from function type\n",
    " - add a compile function that takes (name, input types, output types) and returns a callable"
   ]
  },
  {
   "cell_type": "code",
   "execution_count": 17,
   "metadata": {},
   "outputs": [],
   "source": [
    "from pathlib import Path\n",
    "\n",
    "from xdsl.builder import ImplicitBuilder\n",
    "from xdsl.dialects import arith, func, memref, scf\n",
    "from xdsl.dialects.builtin import (\n",
    "    ArrayAttr,\n",
    "    DictionaryAttr,\n",
    "    FloatAttr,\n",
    "    IndexType,\n",
    "    IntegerAttr,\n",
    "    ModuleOp,\n",
    "    UnitAttr,\n",
    "    f64,\n",
    "    i64,\n",
    ")\n",
    "from xdsl.ir import Block, Region\n",
    "\n",
    "index = IndexType()\n",
    "\n",
    "\n",
    "def get_module(n: int) -> ModuleOp:\n",
    "    memref_t = memref.MemRefType(f64, [n])\n",
    "    module = ModuleOp([])\n",
    "    with ImplicitBuilder(module.body):\n",
    "        f = func.FuncOp(\"hello\", ((i64, i64), (i64,)))\n",
    "        with ImplicitBuilder(f.body) as (lhs, rhs):\n",
    "            res = arith.AddiOp(lhs, rhs).result\n",
    "            func.ReturnOp(res)\n",
    "\n",
    "        g = func.FuncOp(\n",
    "            \"dist\",\n",
    "            ((memref_t, memref_t), (f64,)),\n",
    "            arg_attrs=ArrayAttr((DictionaryAttr({\"llvm.noalias\": UnitAttr()}),) * 2),\n",
    "        )\n",
    "        with ImplicitBuilder(g.body) as (lhs, rhs):\n",
    "            zero = arith.ConstantOp(IntegerAttr(0, index)).result\n",
    "            one = arith.ConstantOp(IntegerAttr(1, index)).result\n",
    "            hundo = arith.ConstantOp(IntegerAttr(n, index)).result\n",
    "\n",
    "            initial = arith.ConstantOp(FloatAttr(0.0, f64)).result\n",
    "\n",
    "            body = Region(Block(arg_types=(index, f64)))\n",
    "            norm_squared = scf.ForOp(zero, hundo, one, (initial,), body)\n",
    "            with ImplicitBuilder(norm_squared.body) as (i, acc):\n",
    "                lhs_el = memref.LoadOp.get(lhs, (i,)).res\n",
    "                rhs_el = memref.LoadOp.get(rhs, (i,)).res\n",
    "                sq = arith.MulfOp(lhs_el, rhs_el).result\n",
    "                new_acc = arith.AddfOp(acc, sq)\n",
    "                scf.YieldOp(new_acc)\n",
    "\n",
    "            func.ReturnOp(norm_squared)\n",
    "\n",
    "    return module\n",
    "\n",
    "\n",
    "m = get_module(100)\n",
    "m_str = str(m)\n",
    "\n",
    "with open(Path() / \"input.mlir\", \"w\") as f:\n",
    "    f.write(m_str)"
   ]
  },
  {
   "cell_type": "code",
   "execution_count": 18,
   "metadata": {},
   "outputs": [
    {
     "data": {
      "text/plain": [
       "11"
      ]
     },
     "execution_count": 18,
     "metadata": {},
     "output_type": "execute_result"
    }
   ],
   "source": [
    "import ctypes\n",
    "\n",
    "from xdsl.jit import jit_module\n",
    "\n",
    "dbl_ptr_type = ctypes.POINTER(ctypes.c_double)\n",
    "\n",
    "hey = jit_module(m, \"hello\", types=((int, int), int))\n",
    "dist_mlir = jit_module(m, \"dist\", types=((dbl_ptr_type, dbl_ptr_type), float))\n",
    "hey(5, 6)"
   ]
  },
  {
   "cell_type": "code",
   "execution_count": 19,
   "metadata": {},
   "outputs": [],
   "source": [
    "import numpy as np"
   ]
  },
  {
   "cell_type": "code",
   "execution_count": 20,
   "metadata": {},
   "outputs": [],
   "source": [
    "n = 10000\n",
    "a = np.random.random(n)\n",
    "b = np.random.random(n)"
   ]
  },
  {
   "cell_type": "code",
   "execution_count": 21,
   "metadata": {},
   "outputs": [
    {
     "name": "stdout",
     "output_type": "stream",
     "text": [
      "CPU times: user 4 μs, sys: 2 μs, total: 6 μs\n",
      "Wall time: 7.87 μs\n"
     ]
    },
    {
     "data": {
      "text/plain": [
       "23.715386211576924"
      ]
     },
     "execution_count": 21,
     "metadata": {},
     "output_type": "execute_result"
    }
   ],
   "source": [
    "a_data_ptr = a.ctypes.data_as(dbl_ptr_type)\n",
    "b_data_ptr = b.ctypes.data_as(dbl_ptr_type)\n",
    "%time dist_mlir(a_data_ptr, b_data_ptr)"
   ]
  },
  {
   "cell_type": "code",
   "execution_count": 22,
   "metadata": {},
   "outputs": [
    {
     "name": "stdout",
     "output_type": "stream",
     "text": [
      "CPU times: user 5 μs, sys: 3 μs, total: 8 μs\n",
      "Wall time: 10 μs\n"
     ]
    },
    {
     "data": {
      "text/plain": [
       "11"
      ]
     },
     "execution_count": 22,
     "metadata": {},
     "output_type": "execute_result"
    }
   ],
   "source": [
    "%time hey(5, 6)"
   ]
  },
  {
   "cell_type": "code",
   "execution_count": 23,
   "metadata": {},
   "outputs": [
    {
     "name": "stdout",
     "output_type": "stream",
     "text": [
      "CPU times: user 1 μs, sys: 1 μs, total: 2 μs\n",
      "Wall time: 954 ns\n"
     ]
    },
    {
     "data": {
      "text/plain": [
       "3"
      ]
     },
     "execution_count": 23,
     "metadata": {},
     "output_type": "execute_result"
    }
   ],
   "source": [
    "%time 1 + 2"
   ]
  },
  {
   "cell_type": "code",
   "execution_count": 24,
   "metadata": {},
   "outputs": [
    {
     "name": "stdout",
     "output_type": "stream",
     "text": [
      "CPU times: user 137 μs, sys: 97 μs, total: 234 μs\n",
      "Wall time: 185 μs\n"
     ]
    },
    {
     "data": {
      "text/plain": [
       "np.float64(2516.1218976375912)"
      ]
     },
     "execution_count": 24,
     "metadata": {},
     "output_type": "execute_result"
    }
   ],
   "source": [
    "from typing import Any\n",
    "\n",
    "\n",
    "def dist_np(\n",
    "    lhs: np.ndarray[Any, np.dtype[np.float64]],\n",
    "    rhs: np.ndarray[Any, np.dtype[np.float64]],\n",
    ") -> np.float64:\n",
    "    return lhs.dot(rhs)\n",
    "\n",
    "\n",
    "%time dist_np(a, b)"
   ]
  },
  {
   "cell_type": "code",
   "execution_count": 25,
   "metadata": {},
   "outputs": [
    {
     "name": "stdout",
     "output_type": "stream",
     "text": [
      "CPU times: user 942 μs, sys: 0 ns, total: 942 μs\n",
      "Wall time: 943 μs\n"
     ]
    },
    {
     "data": {
      "text/plain": [
       "np.float64(2516.1218976375853)"
      ]
     },
     "execution_count": 25,
     "metadata": {},
     "output_type": "execute_result"
    }
   ],
   "source": [
    "def dist_python(\n",
    "    lhs: np.ndarray[Any, np.dtype[np.float64]],\n",
    "    rhs: np.ndarray[Any, np.dtype[np.float64]],\n",
    ") -> np.float64:\n",
    "    res = np.float64(0.0)\n",
    "    for l, r in zip(lhs, rhs):\n",
    "        res += l * r\n",
    "    return res\n",
    "\n",
    "\n",
    "%time dist_python(a, b)"
   ]
  },
  {
   "cell_type": "code",
   "execution_count": 26,
   "metadata": {},
   "outputs": [
    {
     "data": {
      "text/plain": [
       "0.10326058400096372"
      ]
     },
     "execution_count": 26,
     "metadata": {},
     "output_type": "execute_result"
    }
   ],
   "source": [
    "import timeit\n",
    "\n",
    "timeit.timeit(lambda: dist_python(a, b), number=100)"
   ]
  },
  {
   "cell_type": "code",
   "execution_count": 27,
   "metadata": {},
   "outputs": [],
   "source": [
    "import pandas as pd"
   ]
  },
  {
   "cell_type": "code",
   "execution_count": 28,
   "metadata": {},
   "outputs": [],
   "source": [
    "from collections import defaultdict"
   ]
  },
  {
   "cell_type": "code",
   "execution_count": 13,
   "metadata": {},
   "outputs": [
    {
     "data": {
      "text/plain": [
       "defaultdict(list,\n",
       "            {'mlir': [0.0003861250006593764,\n",
       "              6.399999256245792e-05,\n",
       "              0.00012804199650418013,\n",
       "              0.0009725000127218664,\n",
       "              0.009101916992221959],\n",
       "             'numpy': [0.0002498749963706359,\n",
       "              3.354200453031808e-05,\n",
       "              6.64590043015778e-05,\n",
       "              9.741599205881357e-05,\n",
       "              0.0003528749948600307],\n",
       "             'python': [0.0001470829884056002,\n",
       "              0.0009424160089110956,\n",
       "              0.008582000009482726,\n",
       "              0.13935066599515267,\n",
       "              0.8966409170097904]})"
      ]
     },
     "execution_count": 13,
     "metadata": {},
     "output_type": "execute_result"
    }
   ],
   "source": [
    "res = defaultdict[str, list[float]](list)\n",
    "\n",
    "powers = [int(10**i) for i in range(1, 6)]\n",
    "\n",
    "for n in powers:\n",
    "    a = np.random.random(n)\n",
    "    b = np.random.random(n)\n",
    "    dist_mlir_i = jit_module(\n",
    "        get_module(n), \"dist\", types=((dbl_ptr_type, dbl_ptr_type), float)\n",
    "    )\n",
    "    a_data_ptr = a.ctypes.data_as(dbl_ptr_type)\n",
    "    b_data_ptr = b.ctypes.data_as(dbl_ptr_type)\n",
    "    res[\"mlir\"].append(\n",
    "        timeit.timeit(lambda: dist_mlir_i(a_data_ptr, b_data_ptr), number=100)\n",
    "    )\n",
    "    res[\"numpy\"].append(timeit.timeit(lambda: dist_np(a, b), number=100))\n",
    "    res[\"python\"].append(timeit.timeit(lambda: dist_python(a, b), number=100))\n",
    "\n",
    "res"
   ]
  },
  {
   "cell_type": "code",
   "execution_count": 14,
   "metadata": {},
   "outputs": [
    {
     "data": {
      "text/html": [
       "<div>\n",
       "<style scoped>\n",
       "    .dataframe tbody tr th:only-of-type {\n",
       "        vertical-align: middle;\n",
       "    }\n",
       "\n",
       "    .dataframe tbody tr th {\n",
       "        vertical-align: top;\n",
       "    }\n",
       "\n",
       "    .dataframe thead th {\n",
       "        text-align: right;\n",
       "    }\n",
       "</style>\n",
       "<table border=\"1\" class=\"dataframe\">\n",
       "  <thead>\n",
       "    <tr style=\"text-align: right;\">\n",
       "      <th></th>\n",
       "      <th>mlir</th>\n",
       "      <th>numpy</th>\n",
       "      <th>python</th>\n",
       "    </tr>\n",
       "  </thead>\n",
       "  <tbody>\n",
       "    <tr>\n",
       "      <th>10</th>\n",
       "      <td>0.000386</td>\n",
       "      <td>0.000250</td>\n",
       "      <td>0.000147</td>\n",
       "    </tr>\n",
       "    <tr>\n",
       "      <th>100</th>\n",
       "      <td>0.000064</td>\n",
       "      <td>0.000034</td>\n",
       "      <td>0.000942</td>\n",
       "    </tr>\n",
       "    <tr>\n",
       "      <th>1000</th>\n",
       "      <td>0.000128</td>\n",
       "      <td>0.000066</td>\n",
       "      <td>0.008582</td>\n",
       "    </tr>\n",
       "    <tr>\n",
       "      <th>10000</th>\n",
       "      <td>0.000973</td>\n",
       "      <td>0.000097</td>\n",
       "      <td>0.139351</td>\n",
       "    </tr>\n",
       "    <tr>\n",
       "      <th>100000</th>\n",
       "      <td>0.009102</td>\n",
       "      <td>0.000353</td>\n",
       "      <td>0.896641</td>\n",
       "    </tr>\n",
       "  </tbody>\n",
       "</table>\n",
       "</div>"
      ],
      "text/plain": [
       "            mlir     numpy    python\n",
       "10      0.000386  0.000250  0.000147\n",
       "100     0.000064  0.000034  0.000942\n",
       "1000    0.000128  0.000066  0.008582\n",
       "10000   0.000973  0.000097  0.139351\n",
       "100000  0.009102  0.000353  0.896641"
      ]
     },
     "execution_count": 14,
     "metadata": {},
     "output_type": "execute_result"
    }
   ],
   "source": [
    "df = pd.DataFrame(res, index=powers)\n",
    "df"
   ]
  },
  {
   "cell_type": "code",
   "execution_count": 15,
   "metadata": {},
   "outputs": [
    {
     "name": "stdout",
     "output_type": "stream",
     "text": [
      "Requirement already satisfied: matplotlib in ./venv/lib/python3.12/site-packages (3.9.2)\n",
      "Requirement already satisfied: contourpy>=1.0.1 in ./venv/lib/python3.12/site-packages (from matplotlib) (1.3.1)\n",
      "Requirement already satisfied: cycler>=0.10 in ./venv/lib/python3.12/site-packages (from matplotlib) (0.12.1)\n",
      "Requirement already satisfied: fonttools>=4.22.0 in ./venv/lib/python3.12/site-packages (from matplotlib) (4.55.0)\n",
      "Requirement already satisfied: kiwisolver>=1.3.1 in ./venv/lib/python3.12/site-packages (from matplotlib) (1.4.7)\n",
      "Requirement already satisfied: numpy>=1.23 in ./venv/lib/python3.12/site-packages (from matplotlib) (2.1.3)\n",
      "Requirement already satisfied: packaging>=20.0 in ./venv/lib/python3.12/site-packages (from matplotlib) (24.2)\n",
      "Requirement already satisfied: pillow>=8 in ./venv/lib/python3.12/site-packages (from matplotlib) (11.0.0)\n",
      "Requirement already satisfied: pyparsing>=2.3.1 in ./venv/lib/python3.12/site-packages (from matplotlib) (3.2.0)\n",
      "Requirement already satisfied: python-dateutil>=2.7 in ./venv/lib/python3.12/site-packages (from matplotlib) (2.9.0.post0)\n",
      "Requirement already satisfied: six>=1.5 in ./venv/lib/python3.12/site-packages (from python-dateutil>=2.7->matplotlib) (1.16.0)\n",
      "Note: you may need to restart the kernel to use updated packages.\n"
     ]
    }
   ],
   "source": [
    "%pip install matplotlib"
   ]
  },
  {
   "cell_type": "code",
   "execution_count": 16,
   "metadata": {},
   "outputs": [
    {
     "data": {
      "text/plain": [
       "<Axes: ylabel='seconds'>"
      ]
     },
     "execution_count": 16,
     "metadata": {},
     "output_type": "execute_result"
    },
    {
     "data": {
      "image/png": "[encoded data removed]",
      "text/plain": [
       "<Figure size 640x480 with 1 Axes>"
      ]
     },
     "metadata": {},
     "output_type": "display_data"
    }
   ],
   "source": [
    "df.plot(logy=True, logx=True, ylabel=\"seconds\")"
   ]
  },
  {
   "cell_type": "code",
   "execution_count": null,
   "metadata": {},
   "outputs": [],
   "source": []
  }
 ],
 "metadata": {
  "kernelspec": {
   "display_name": "venv",
   "language": "python",
   "name": "venv"
  },
  "language_info": {
   "codemirror_mode": {
    "name": "ipython",
    "version": 3
   },
   "file_extension": ".py",
   "mimetype": "text/x-python",
   "name": "python",
   "nbconvert_exporter": "python",
   "pygments_lexer": "ipython3",
   "version": "3.12.7"
  },
  "orig_nbformat": 4
 },
 "nbformat": 4,
 "nbformat_minor": 2
}
