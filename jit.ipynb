{
 "cells": [
  {
   "cell_type": "markdown",
   "metadata": {},
   "source": [
    " - hash name\n",
    " - get python types from function type\n",
    " - add a compile function that takes (name, input types, output types) and returns a callable"
   ]
  },
  {
   "cell_type": "code",
   "execution_count": 1,
   "metadata": {},
   "outputs": [
    {
     "name": "stderr",
     "output_type": "stream",
     "text": [
      "/Users/sasha/Developer/xdslproject/xdsl/xdsl/utils/deprecation.py:18: UserWarning: Call to deprecated method MemRefType.from_element_type_and_shape: use the constructor (`ClassName(...)`) instead.\n",
      "  warnings.warn(\n"
     ]
    }
   ],
   "source": [
    "from pathlib import Path\n",
    "\n",
    "from xdsl.builder import ImplicitBuilder\n",
    "from xdsl.dialects import arith, func, memref, scf\n",
    "from xdsl.dialects.builtin import FloatAttr, IndexType, IntegerAttr, ModuleOp, f64, i64\n",
    "from xdsl.ir import Block, Region\n",
    "\n",
    "index = IndexType()\n",
    "\n",
    "def get_module(n: int) -> ModuleOp:\n",
    "    memref_t = memref.MemRefType.from_element_type_and_shape(f64, [n])\n",
    "    module = ModuleOp([])\n",
    "    with ImplicitBuilder(module.body):\n",
    "        f = func.FuncOp(\"hello\", ((i64, i64), (i64,)))\n",
    "        with ImplicitBuilder(f.body) as (lhs, rhs):\n",
    "            res = arith.Addi(lhs, rhs).result\n",
    "            func.Return(res)\n",
    "\n",
    "        g = func.FuncOp(\"dist\", ((memref_t, memref_t), (f64,)))\n",
    "        with ImplicitBuilder(g.body) as (lhs, rhs):\n",
    "            zero = arith.Constant(IntegerAttr( 0, index)).result\n",
    "            one = arith.Constant(IntegerAttr( 1, index)).result\n",
    "            hundo = arith.Constant(IntegerAttr( n, index)).result\n",
    "\n",
    "            initial = arith.Constant(FloatAttr(0.0, f64)).result\n",
    "\n",
    "            body = Region(Block(arg_types=(index, f64)))\n",
    "            norm_squared = scf.For(zero, hundo, one, (initial,), body)\n",
    "            with ImplicitBuilder(norm_squared.body) as (i, acc):\n",
    "                lhs_el = memref.Load.get(lhs, (i,)).res\n",
    "                rhs_el = memref.Load.get(rhs, (i,)).res\n",
    "                sq = arith.Mulf(lhs_el, rhs_el).result\n",
    "                new_acc = arith.Addf(acc, sq)\n",
    "                scf.Yield(new_acc)\n",
    "\n",
    "            func.Return(norm_squared)\n",
    "\n",
    "    return module\n",
    "\n",
    "m = get_module(100)\n",
    "m_str = str(m)\n",
    "\n",
    "with open(Path() / \"input.mlir\", 'w') as f:\n",
    "    f.write(m_str)"
   ]
  },
  {
   "cell_type": "code",
   "execution_count": 2,
   "metadata": {},
   "outputs": [
    {
     "data": {
      "text/plain": [
       "11"
      ]
     },
     "execution_count": 2,
     "metadata": {},
     "output_type": "execute_result"
    }
   ],
   "source": [
    "import ctypes\n",
    "\n",
    "from xdsl.jit import jit_module\n",
    "\n",
    "dbl_ptr_type = ctypes.POINTER(ctypes.c_double)\n",
    "\n",
    "hey = jit_module(m, \"hello\", types=((int, int), int))\n",
    "dist_mlir = jit_module(m, \"dist\", types=((dbl_ptr_type, dbl_ptr_type), float))\n",
    "hey(5,6)"
   ]
  },
  {
   "cell_type": "code",
   "execution_count": 3,
   "metadata": {},
   "outputs": [],
   "source": [
    "import numpy as np"
   ]
  },
  {
   "cell_type": "code",
   "execution_count": 4,
   "metadata": {},
   "outputs": [],
   "source": [
    "n = 10000\n",
    "a = np.random.random(n)\n",
    "b = np.random.random(n)"
   ]
  },
  {
   "cell_type": "code",
   "execution_count": 5,
   "metadata": {},
   "outputs": [
    {
     "name": "stdout",
     "output_type": "stream",
     "text": [
      "CPU times: user 4 µs, sys: 3 µs, total: 7 µs\n",
      "Wall time: 8.34 µs\n"
     ]
    },
    {
     "data": {
      "text/plain": [
       "27.688617729996096"
      ]
     },
     "execution_count": 5,
     "metadata": {},
     "output_type": "execute_result"
    }
   ],
   "source": [
    "a_data_ptr = a.ctypes.data_as(dbl_ptr_type)\n",
    "b_data_ptr = b.ctypes.data_as(dbl_ptr_type)\n",
    "%time dist_mlir(a_data_ptr, b_data_ptr)"
   ]
  },
  {
   "cell_type": "code",
   "execution_count": 6,
   "metadata": {},
   "outputs": [
    {
     "name": "stdout",
     "output_type": "stream",
     "text": [
      "CPU times: user 7 µs, sys: 3 µs, total: 10 µs\n",
      "Wall time: 10.7 µs\n"
     ]
    },
    {
     "data": {
      "text/plain": [
       "11"
      ]
     },
     "execution_count": 6,
     "metadata": {},
     "output_type": "execute_result"
    }
   ],
   "source": [
    "%time hey(5, 6)"
   ]
  },
  {
   "cell_type": "code",
   "execution_count": 7,
   "metadata": {},
   "outputs": [
    {
     "name": "stdout",
     "output_type": "stream",
     "text": [
      "CPU times: user 1e+03 ns, sys: 0 ns, total: 1e+03 ns\n",
      "Wall time: 2.15 µs\n"
     ]
    },
    {
     "data": {
      "text/plain": [
       "3"
      ]
     },
     "execution_count": 7,
     "metadata": {},
     "output_type": "execute_result"
    }
   ],
   "source": [
    "%time 1 + 2"
   ]
  },
  {
   "cell_type": "code",
   "execution_count": 8,
   "metadata": {},
   "outputs": [
    {
     "name": "stdout",
     "output_type": "stream",
     "text": [
      "CPU times: user 18 µs, sys: 6 µs, total: 24 µs\n",
      "Wall time: 22.9 µs\n"
     ]
    },
    {
     "data": {
      "text/plain": [
       "2501.373855475613"
      ]
     },
     "execution_count": 8,
     "metadata": {},
     "output_type": "execute_result"
    }
   ],
   "source": [
    "from typing import Any\n",
    "\n",
    "\n",
    "def dist_np(lhs: np.ndarray[Any, np.dtype[np.float64]], rhs: np.ndarray[Any, np.dtype[np.float64]]) -> np.float64:\n",
    "    return lhs.dot(rhs)\n",
    "\n",
    "%time dist_np(a, b)"
   ]
  },
  {
   "cell_type": "code",
   "execution_count": 9,
   "metadata": {},
   "outputs": [
    {
     "name": "stdout",
     "output_type": "stream",
     "text": [
      "CPU times: user 3.08 ms, sys: 7 µs, total: 3.08 ms\n",
      "Wall time: 917 µs\n"
     ]
    },
    {
     "data": {
      "text/plain": [
       "2501.3738554756155"
      ]
     },
     "execution_count": 9,
     "metadata": {},
     "output_type": "execute_result"
    }
   ],
   "source": [
    "def dist_python(lhs: np.ndarray[Any, np.dtype[np.float64]], rhs: np.ndarray[Any, np.dtype[np.float64]]) -> np.float64:\n",
    "    res = np.float64(0.0)\n",
    "    for l, r in zip(lhs, rhs):\n",
    "        res += l * r\n",
    "    return res\n",
    "\n",
    "%time dist_python(a, b)"
   ]
  },
  {
   "cell_type": "code",
   "execution_count": 10,
   "metadata": {},
   "outputs": [
    {
     "data": {
      "text/plain": [
       "0.10218562511727214"
      ]
     },
     "execution_count": 10,
     "metadata": {},
     "output_type": "execute_result"
    }
   ],
   "source": [
    "import timeit\n",
    "\n",
    "timeit.timeit(lambda: dist_python(a, b), number=100)"
   ]
  },
  {
   "cell_type": "code",
   "execution_count": 11,
   "metadata": {},
   "outputs": [],
   "source": [
    "import pandas as pd"
   ]
  },
  {
   "cell_type": "code",
   "execution_count": 12,
   "metadata": {},
   "outputs": [],
   "source": [
    "from collections import defaultdict"
   ]
  },
  {
   "cell_type": "code",
   "execution_count": 13,
   "metadata": {},
   "outputs": [
    {
     "name": "stderr",
     "output_type": "stream",
     "text": [
      "/Users/sasha/Developer/xdslproject/xdsl/xdsl/utils/deprecation.py:18: UserWarning: Call to deprecated method MemRefType.from_element_type_and_shape: use the constructor (`ClassName(...)`) instead.\n",
      "  warnings.warn(\n",
      "/Users/sasha/Developer/xdslproject/xdsl/xdsl/utils/deprecation.py:18: UserWarning: Call to deprecated method MemRefType.from_element_type_and_shape: use the constructor (`ClassName(...)`) instead.\n",
      "  warnings.warn(\n",
      "/Users/sasha/Developer/xdslproject/xdsl/xdsl/utils/deprecation.py:18: UserWarning: Call to deprecated method MemRefType.from_element_type_and_shape: use the constructor (`ClassName(...)`) instead.\n",
      "  warnings.warn(\n",
      "/Users/sasha/Developer/xdslproject/xdsl/xdsl/utils/deprecation.py:18: UserWarning: Call to deprecated method MemRefType.from_element_type_and_shape: use the constructor (`ClassName(...)`) instead.\n",
      "  warnings.warn(\n"
     ]
    },
    {
     "data": {
      "text/plain": [
       "defaultdict(list,\n",
       "            {'mlir': [0.0018562921322882175,\n",
       "              0.0005725000519305468,\n",
       "              0.001130291959270835,\n",
       "              0.006798125104978681,\n",
       "              0.061717333970591426],\n",
       "             'numpy': [5.641602911055088e-05,\n",
       "              3.9125094190239906e-05,\n",
       "              0.00011925003491342068,\n",
       "              0.0005673330742865801,\n",
       "              0.00467541697435081],\n",
       "             'python': [0.00014399993233382702,\n",
       "              0.0009146658703684807,\n",
       "              0.01179254218004644,\n",
       "              0.08755708299577236,\n",
       "              0.922177542001009]})"
      ]
     },
     "execution_count": 13,
     "metadata": {},
     "output_type": "execute_result"
    }
   ],
   "source": [
    "res = defaultdict[str, list[float]](list)\n",
    "\n",
    "powers = [int(10 ** i) for i in range(1, 6)]\n",
    "\n",
    "for n in powers:\n",
    "    a = np.random.random(n)\n",
    "    b = np.random.random(n)\n",
    "    dist_mlir_i = jit_module(get_module(n), \"dist\", types=((dbl_ptr_type, dbl_ptr_type), float))\n",
    "    a_data_ptr = a.ctypes.data_as(dbl_ptr_type)\n",
    "    b_data_ptr = b.ctypes.data_as(dbl_ptr_type)\n",
    "    res[\"mlir\"].append(timeit.timeit(lambda: dist_mlir_i(a_data_ptr, b_data_ptr), number=100))\n",
    "    res[\"numpy\"].append(timeit.timeit(lambda: dist_np(a, b), number=100))\n",
    "    res[\"python\"].append(timeit.timeit(lambda: dist_python(a, b), number=100))\n",
    "\n",
    "res"
   ]
  },
  {
   "cell_type": "code",
   "execution_count": 14,
   "metadata": {},
   "outputs": [
    {
     "data": {
      "text/html": [
       "<div>\n",
       "<style scoped>\n",
       "    .dataframe tbody tr th:only-of-type {\n",
       "        vertical-align: middle;\n",
       "    }\n",
       "\n",
       "    .dataframe tbody tr th {\n",
       "        vertical-align: top;\n",
       "    }\n",
       "\n",
       "    .dataframe thead th {\n",
       "        text-align: right;\n",
       "    }\n",
       "</style>\n",
       "<table border=\"1\" class=\"dataframe\">\n",
       "  <thead>\n",
       "    <tr style=\"text-align: right;\">\n",
       "      <th></th>\n",
       "      <th>mlir</th>\n",
       "      <th>numpy</th>\n",
       "      <th>python</th>\n",
       "    </tr>\n",
       "  </thead>\n",
       "  <tbody>\n",
       "    <tr>\n",
       "      <th>10</th>\n",
       "      <td>0.001856</td>\n",
       "      <td>0.000056</td>\n",
       "      <td>0.000144</td>\n",
       "    </tr>\n",
       "    <tr>\n",
       "      <th>100</th>\n",
       "      <td>0.000573</td>\n",
       "      <td>0.000039</td>\n",
       "      <td>0.000915</td>\n",
       "    </tr>\n",
       "    <tr>\n",
       "      <th>1000</th>\n",
       "      <td>0.001130</td>\n",
       "      <td>0.000119</td>\n",
       "      <td>0.011793</td>\n",
       "    </tr>\n",
       "    <tr>\n",
       "      <th>10000</th>\n",
       "      <td>0.006798</td>\n",
       "      <td>0.000567</td>\n",
       "      <td>0.087557</td>\n",
       "    </tr>\n",
       "    <tr>\n",
       "      <th>100000</th>\n",
       "      <td>0.061717</td>\n",
       "      <td>0.004675</td>\n",
       "      <td>0.922178</td>\n",
       "    </tr>\n",
       "  </tbody>\n",
       "</table>\n",
       "</div>"
      ],
      "text/plain": [
       "            mlir     numpy    python\n",
       "10      0.001856  0.000056  0.000144\n",
       "100     0.000573  0.000039  0.000915\n",
       "1000    0.001130  0.000119  0.011793\n",
       "10000   0.006798  0.000567  0.087557\n",
       "100000  0.061717  0.004675  0.922178"
      ]
     },
     "execution_count": 14,
     "metadata": {},
     "output_type": "execute_result"
    }
   ],
   "source": [
    "df = pd.DataFrame(res, index=powers)\n",
    "df"
   ]
  },
  {
   "cell_type": "code",
   "execution_count": 15,
   "metadata": {},
   "outputs": [
    {
     "name": "stdout",
     "output_type": "stream",
     "text": [
      "Requirement already satisfied: matplotlib in ./venv/lib/python3.11/site-packages (3.8.2)\n",
      "Requirement already satisfied: contourpy>=1.0.1 in ./venv/lib/python3.11/site-packages (from matplotlib) (1.2.0)\n",
      "Requirement already satisfied: cycler>=0.10 in ./venv/lib/python3.11/site-packages (from matplotlib) (0.12.1)\n",
      "Requirement already satisfied: fonttools>=4.22.0 in ./venv/lib/python3.11/site-packages (from matplotlib) (4.47.0)\n",
      "Requirement already satisfied: kiwisolver>=1.3.1 in ./venv/lib/python3.11/site-packages (from matplotlib) (1.4.5)\n",
      "Requirement already satisfied: numpy<2,>=1.21 in ./venv/lib/python3.11/site-packages (from matplotlib) (1.26.3)\n",
      "Requirement already satisfied: packaging>=20.0 in ./venv/lib/python3.11/site-packages (from matplotlib) (23.2)\n",
      "Requirement already satisfied: pillow>=8 in ./venv/lib/python3.11/site-packages (from matplotlib) (10.2.0)\n",
      "Requirement already satisfied: pyparsing>=2.3.1 in ./venv/lib/python3.11/site-packages (from matplotlib) (3.1.1)\n",
      "Requirement already satisfied: python-dateutil>=2.7 in ./venv/lib/python3.11/site-packages (from matplotlib) (2.8.2)\n",
      "Requirement already satisfied: six>=1.5 in ./venv/lib/python3.11/site-packages (from python-dateutil>=2.7->matplotlib) (1.16.0)\n",
      "Note: you may need to restart the kernel to use updated packages.\n"
     ]
    }
   ],
   "source": [
    "%pip install matplotlib"
   ]
  },
  {
   "cell_type": "code",
   "execution_count": 16,
   "metadata": {},
   "outputs": [
    {
     "data": {
      "text/plain": [
       "<Axes: ylabel='seconds'>"
      ]
     },
     "execution_count": 16,
     "metadata": {},
     "output_type": "execute_result"
    },
    {
     "data": {
      "image/png": "[encoded data removed]",
      "text/plain": [
       "<Figure size 640x480 with 1 Axes>"
      ]
     },
     "metadata": {},
     "output_type": "display_data"
    }
   ],
   "source": [
    "df.plot(logy=True, logx=True, ylabel=\"seconds\")"
   ]
  },
  {
   "cell_type": "code",
   "execution_count": null,
   "metadata": {},
   "outputs": [],
   "source": []
  }
 ],
 "metadata": {
  "kernelspec": {
   "display_name": "venv",
   "language": "python",
   "name": "venv"
  },
  "language_info": {
   "codemirror_mode": {
    "name": "ipython",
    "version": 3
   },
   "file_extension": ".py",
   "mimetype": "text/x-python",
   "name": "python",
   "nbconvert_exporter": "python",
   "pygments_lexer": "ipython3",
   "version": "3.11.6"
  },
  "orig_nbformat": 4
 },
 "nbformat": 4,
 "nbformat_minor": 2
}
