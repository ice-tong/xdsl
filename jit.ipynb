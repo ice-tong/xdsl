{
 "cells": [
  {
   "cell_type": "markdown",
   "metadata": {},
   "source": [
    " - hash name\n",
    " - get python types from function type\n",
    " - add a compile function that takes (name, input types, output types) and returns a callable"
   ]
  },
  {
   "cell_type": "code",
   "execution_count": 1,
   "metadata": {},
   "outputs": [],
   "source": [
    "from pathlib import Path\n",
    "\n",
    "from xdsl.builder import ImplicitBuilder\n",
    "from xdsl.dialects import arith, func, memref, scf\n",
    "from xdsl.dialects.builtin import ArrayAttr, DictionaryAttr, FloatAttr, IndexType, IntegerAttr, ModuleOp, UnitAttr, f64, i64\n",
    "from xdsl.ir import Block, Region\n",
    "\n",
    "index = IndexType()\n",
    "\n",
    "def get_module(n: int) -> ModuleOp:\n",
    "    memref_t = memref.MemRefType(f64, [n])\n",
    "    module = ModuleOp([])\n",
    "    with ImplicitBuilder(module.body):\n",
    "        f = func.FuncOp(\"hello\", ((i64, i64), (i64,)))\n",
    "        with ImplicitBuilder(f.body) as (lhs, rhs):\n",
    "            res = arith.Addi(lhs, rhs).result\n",
    "            func.Return(res)\n",
    "\n",
    "        g = func.FuncOp(\"dist\", ((memref_t, memref_t), (f64,)), arg_attrs=ArrayAttr((DictionaryAttr({\"llvm.noalias\": UnitAttr()}),) * 2))\n",
    "        with ImplicitBuilder(g.body) as (lhs, rhs):\n",
    "            zero = arith.Constant(IntegerAttr( 0, index)).result\n",
    "            one = arith.Constant(IntegerAttr( 1, index)).result\n",
    "            hundo = arith.Constant(IntegerAttr( n, index)).result\n",
    "\n",
    "            initial = arith.Constant(FloatAttr(0.0, f64)).result\n",
    "\n",
    "            body = Region(Block(arg_types=(index, f64)))\n",
    "            norm_squared = scf.For(zero, hundo, one, (initial,), body)\n",
    "            with ImplicitBuilder(norm_squared.body) as (i, acc):\n",
    "                lhs_el = memref.Load.get(lhs, (i,)).res\n",
    "                rhs_el = memref.Load.get(rhs, (i,)).res\n",
    "                sq = arith.Mulf(lhs_el, rhs_el).result\n",
    "                new_acc = arith.Addf(acc, sq)\n",
    "                scf.Yield(new_acc)\n",
    "\n",
    "            func.Return(norm_squared)\n",
    "\n",
    "    return module\n",
    "\n",
    "m = get_module(100)\n",
    "m_str = str(m)\n",
    "\n",
    "with open(Path() / \"input.mlir\", 'w') as f:\n",
    "    f.write(m_str)"
   ]
  },
  {
   "cell_type": "code",
   "execution_count": 2,
   "metadata": {},
   "outputs": [
    {
     "data": {
      "text/plain": [
       "11"
      ]
     },
     "execution_count": 2,
     "metadata": {},
     "output_type": "execute_result"
    }
   ],
   "source": [
    "import ctypes\n",
    "\n",
    "from xdsl.jit import jit_module\n",
    "\n",
    "dbl_ptr_type = ctypes.POINTER(ctypes.c_double)\n",
    "\n",
    "hey = jit_module(m, \"hello\", types=((int, int), int))\n",
    "dist_mlir = jit_module(m, \"dist\", types=((dbl_ptr_type, dbl_ptr_type), float))\n",
    "hey(5,6)"
   ]
  },
  {
   "cell_type": "code",
   "execution_count": 3,
   "metadata": {},
   "outputs": [],
   "source": [
    "import numpy as np"
   ]
  },
  {
   "cell_type": "code",
   "execution_count": 4,
   "metadata": {},
   "outputs": [],
   "source": [
    "n = 10000\n",
    "a = np.random.random(n)\n",
    "b = np.random.random(n)"
   ]
  },
  {
   "cell_type": "code",
   "execution_count": 5,
   "metadata": {},
   "outputs": [
    {
     "name": "stdout",
     "output_type": "stream",
     "text": [
      "CPU times: user 27 µs, sys: 71 µs, total: 98 µs\n",
      "Wall time: 19.1 µs\n"
     ]
    },
    {
     "data": {
      "text/plain": [
       "23.494894028833343"
      ]
     },
     "execution_count": 5,
     "metadata": {},
     "output_type": "execute_result"
    }
   ],
   "source": [
    "a_data_ptr = a.ctypes.data_as(dbl_ptr_type)\n",
    "b_data_ptr = b.ctypes.data_as(dbl_ptr_type)\n",
    "%time dist_mlir(a_data_ptr, b_data_ptr)"
   ]
  },
  {
   "cell_type": "code",
   "execution_count": 6,
   "metadata": {},
   "outputs": [
    {
     "name": "stdout",
     "output_type": "stream",
     "text": [
      "CPU times: user 5 µs, sys: 4 µs, total: 9 µs\n",
      "Wall time: 8.82 µs\n"
     ]
    },
    {
     "data": {
      "text/plain": [
       "11"
      ]
     },
     "execution_count": 6,
     "metadata": {},
     "output_type": "execute_result"
    }
   ],
   "source": [
    "%time hey(5, 6)"
   ]
  },
  {
   "cell_type": "code",
   "execution_count": 7,
   "metadata": {},
   "outputs": [
    {
     "name": "stdout",
     "output_type": "stream",
     "text": [
      "CPU times: user 1e+03 ns, sys: 0 ns, total: 1e+03 ns\n",
      "Wall time: 3.1 µs\n"
     ]
    },
    {
     "data": {
      "text/plain": [
       "3"
      ]
     },
     "execution_count": 7,
     "metadata": {},
     "output_type": "execute_result"
    }
   ],
   "source": [
    "%time 1 + 2"
   ]
  },
  {
   "cell_type": "code",
   "execution_count": 8,
   "metadata": {},
   "outputs": [
    {
     "name": "stdout",
     "output_type": "stream",
     "text": [
      "CPU times: user 17 µs, sys: 3 µs, total: 20 µs\n",
      "Wall time: 21.9 µs\n"
     ]
    },
    {
     "data": {
      "text/plain": [
       "2499.5604988060345"
      ]
     },
     "execution_count": 8,
     "metadata": {},
     "output_type": "execute_result"
    }
   ],
   "source": [
    "from typing import Any\n",
    "\n",
    "\n",
    "def dist_np(lhs: np.ndarray[Any, np.dtype[np.float64]], rhs: np.ndarray[Any, np.dtype[np.float64]]) -> np.float64:\n",
    "    return lhs.dot(rhs)\n",
    "\n",
    "%time dist_np(a, b)"
   ]
  },
  {
   "cell_type": "code",
   "execution_count": 9,
   "metadata": {},
   "outputs": [
    {
     "name": "stdout",
     "output_type": "stream",
     "text": [
      "CPU times: user 2.27 ms, sys: 1.59 ms, total: 3.86 ms\n",
      "Wall time: 936 µs\n"
     ]
    },
    {
     "data": {
      "text/plain": [
       "2499.5604988060354"
      ]
     },
     "execution_count": 9,
     "metadata": {},
     "output_type": "execute_result"
    }
   ],
   "source": [
    "def dist_python(lhs: np.ndarray[Any, np.dtype[np.float64]], rhs: np.ndarray[Any, np.dtype[np.float64]]) -> np.float64:\n",
    "    res = np.float64(0.0)\n",
    "    for l, r in zip(lhs, rhs):\n",
    "        res += l * r\n",
    "    return res\n",
    "\n",
    "%time dist_python(a, b)"
   ]
  },
  {
   "cell_type": "code",
   "execution_count": 10,
   "metadata": {},
   "outputs": [
    {
     "data": {
      "text/plain": [
       "0.1969793748576194"
      ]
     },
     "execution_count": 10,
     "metadata": {},
     "output_type": "execute_result"
    }
   ],
   "source": [
    "import timeit\n",
    "\n",
    "timeit.timeit(lambda: dist_python(a, b), number=100)"
   ]
  },
  {
   "cell_type": "code",
   "execution_count": 11,
   "metadata": {},
   "outputs": [],
   "source": [
    "import pandas as pd"
   ]
  },
  {
   "cell_type": "code",
   "execution_count": 12,
   "metadata": {},
   "outputs": [],
   "source": [
    "from collections import defaultdict"
   ]
  },
  {
   "cell_type": "code",
   "execution_count": 13,
   "metadata": {},
   "outputs": [
    {
     "data": {
      "text/plain": [
       "defaultdict(list,\n",
       "            {'mlir': [0.00029099988751113415,\n",
       "              0.0003056658897548914,\n",
       "              0.0006013750098645687,\n",
       "              0.005781207932159305,\n",
       "              0.05610308307223022],\n",
       "             'numpy': [0.00012745801359415054,\n",
       "              4.1082967072725296e-05,\n",
       "              7.812492549419403e-05,\n",
       "              0.0005139580462127924,\n",
       "              0.004671167116612196],\n",
       "             'python': [0.00014287489466369152,\n",
       "              0.000989333027973771,\n",
       "              0.008978083031252027,\n",
       "              0.08850879198871553,\n",
       "              0.9622767909895629]})"
      ]
     },
     "execution_count": 13,
     "metadata": {},
     "output_type": "execute_result"
    }
   ],
   "source": [
    "res = defaultdict[str, list[float]](list)\n",
    "\n",
    "powers = [int(10 ** i) for i in range(1, 6)]\n",
    "\n",
    "for n in powers:\n",
    "    a = np.random.random(n)\n",
    "    b = np.random.random(n)\n",
    "    dist_mlir_i = jit_module(get_module(n), \"dist\", types=((dbl_ptr_type, dbl_ptr_type), float))\n",
    "    a_data_ptr = a.ctypes.data_as(dbl_ptr_type)\n",
    "    b_data_ptr = b.ctypes.data_as(dbl_ptr_type)\n",
    "    res[\"mlir\"].append(timeit.timeit(lambda: dist_mlir_i(a_data_ptr, b_data_ptr), number=100))\n",
    "    res[\"numpy\"].append(timeit.timeit(lambda: dist_np(a, b), number=100))\n",
    "    res[\"python\"].append(timeit.timeit(lambda: dist_python(a, b), number=100))\n",
    "\n",
    "res"
   ]
  },
  {
   "cell_type": "code",
   "execution_count": 14,
   "metadata": {},
   "outputs": [
    {
     "data": {
      "text/html": [
       "<div>\n",
       "<style scoped>\n",
       "    .dataframe tbody tr th:only-of-type {\n",
       "        vertical-align: middle;\n",
       "    }\n",
       "\n",
       "    .dataframe tbody tr th {\n",
       "        vertical-align: top;\n",
       "    }\n",
       "\n",
       "    .dataframe thead th {\n",
       "        text-align: right;\n",
       "    }\n",
       "</style>\n",
       "<table border=\"1\" class=\"dataframe\">\n",
       "  <thead>\n",
       "    <tr style=\"text-align: right;\">\n",
       "      <th></th>\n",
       "      <th>mlir</th>\n",
       "      <th>numpy</th>\n",
       "      <th>python</th>\n",
       "    </tr>\n",
       "  </thead>\n",
       "  <tbody>\n",
       "    <tr>\n",
       "      <th>10</th>\n",
       "      <td>0.000291</td>\n",
       "      <td>0.000127</td>\n",
       "      <td>0.000143</td>\n",
       "    </tr>\n",
       "    <tr>\n",
       "      <th>100</th>\n",
       "      <td>0.000306</td>\n",
       "      <td>0.000041</td>\n",
       "      <td>0.000989</td>\n",
       "    </tr>\n",
       "    <tr>\n",
       "      <th>1000</th>\n",
       "      <td>0.000601</td>\n",
       "      <td>0.000078</td>\n",
       "      <td>0.008978</td>\n",
       "    </tr>\n",
       "    <tr>\n",
       "      <th>10000</th>\n",
       "      <td>0.005781</td>\n",
       "      <td>0.000514</td>\n",
       "      <td>0.088509</td>\n",
       "    </tr>\n",
       "    <tr>\n",
       "      <th>100000</th>\n",
       "      <td>0.056103</td>\n",
       "      <td>0.004671</td>\n",
       "      <td>0.962277</td>\n",
       "    </tr>\n",
       "  </tbody>\n",
       "</table>\n",
       "</div>"
      ],
      "text/plain": [
       "            mlir     numpy    python\n",
       "10      0.000291  0.000127  0.000143\n",
       "100     0.000306  0.000041  0.000989\n",
       "1000    0.000601  0.000078  0.008978\n",
       "10000   0.005781  0.000514  0.088509\n",
       "100000  0.056103  0.004671  0.962277"
      ]
     },
     "execution_count": 14,
     "metadata": {},
     "output_type": "execute_result"
    }
   ],
   "source": [
    "df = pd.DataFrame(res, index=powers)\n",
    "df"
   ]
  },
  {
   "cell_type": "code",
   "execution_count": 15,
   "metadata": {},
   "outputs": [
    {
     "name": "stdout",
     "output_type": "stream",
     "text": [
      "Requirement already satisfied: matplotlib in ./venv/lib/python3.11/site-packages (3.8.2)\n",
      "Requirement already satisfied: contourpy>=1.0.1 in ./venv/lib/python3.11/site-packages (from matplotlib) (1.2.0)\n",
      "Requirement already satisfied: cycler>=0.10 in ./venv/lib/python3.11/site-packages (from matplotlib) (0.12.1)\n",
      "Requirement already satisfied: fonttools>=4.22.0 in ./venv/lib/python3.11/site-packages (from matplotlib) (4.47.0)\n",
      "Requirement already satisfied: kiwisolver>=1.3.1 in ./venv/lib/python3.11/site-packages (from matplotlib) (1.4.5)\n",
      "Requirement already satisfied: numpy<2,>=1.21 in ./venv/lib/python3.11/site-packages (from matplotlib) (1.26.3)\n",
      "Requirement already satisfied: packaging>=20.0 in ./venv/lib/python3.11/site-packages (from matplotlib) (23.2)\n",
      "Requirement already satisfied: pillow>=8 in ./venv/lib/python3.11/site-packages (from matplotlib) (10.2.0)\n",
      "Requirement already satisfied: pyparsing>=2.3.1 in ./venv/lib/python3.11/site-packages (from matplotlib) (3.1.1)\n",
      "Requirement already satisfied: python-dateutil>=2.7 in ./venv/lib/python3.11/site-packages (from matplotlib) (2.8.2)\n",
      "Requirement already satisfied: six>=1.5 in ./venv/lib/python3.11/site-packages (from python-dateutil>=2.7->matplotlib) (1.16.0)\n",
      "Note: you may need to restart the kernel to use updated packages.\n"
     ]
    }
   ],
   "source": [
    "%pip install matplotlib"
   ]
  },
  {
   "cell_type": "code",
   "execution_count": 16,
   "metadata": {},
   "outputs": [
    {
     "data": {
      "text/plain": [
       "<Axes: ylabel='seconds'>"
      ]
     },
     "execution_count": 16,
     "metadata": {},
     "output_type": "execute_result"
    },
    {
     "data": {
      "image/png": "[encoded data removed]",
      "text/plain": [
       "<Figure size 640x480 with 1 Axes>"
      ]
     },
     "metadata": {},
     "output_type": "display_data"
    }
   ],
   "source": [
    "df.plot(logy=True, logx=True, ylabel=\"seconds\")"
   ]
  },
  {
   "cell_type": "code",
   "execution_count": null,
   "metadata": {},
   "outputs": [],
   "source": []
  }
 ],
 "metadata": {
  "kernelspec": {
   "display_name": "venv",
   "language": "python",
   "name": "venv"
  },
  "language_info": {
   "codemirror_mode": {
    "name": "ipython",
    "version": 3
   },
   "file_extension": ".py",
   "mimetype": "text/x-python",
   "name": "python",
   "nbconvert_exporter": "python",
   "pygments_lexer": "ipython3",
   "version": "3.11.6"
  },
  "orig_nbformat": 4
 },
 "nbformat": 4,
 "nbformat_minor": 2
}
